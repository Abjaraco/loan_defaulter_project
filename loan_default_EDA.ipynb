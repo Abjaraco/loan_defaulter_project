{
 "cells": [
  {
   "cell_type": "code",
   "execution_count": null,
   "metadata": {},
   "outputs": [],
   "source": [
    "import pandas as pd\n",
    "import numpy as np\n",
    "import matplotlib.pyplot as plt"
   ]
  },
  {
   "cell_type": "code",
<<<<<<< HEAD
   "execution_count": null,
   "metadata": {},
   "outputs": [],
   "source": [
    "df = pd.read_csv('/Users/jacobwarchola/Desktop/kaggle_loan_default_data/application_data.csv') \n"
=======
   "execution_count": 4,
   "metadata": {},
   "outputs": [],
   "source": [
    "df = pd.read_csv('/Users/jacobwarchola/Desktop/archive/application_data.csv')\n"
>>>>>>> d10ec740bfdf5283fd440225df4fff6582b568ec
   ]
  },
  {
   "cell_type": "code",
   "execution_count": null,
   "metadata": {},
   "outputs": [],
   "source": [
    "df.info()"
   ]
  },
  {
   "cell_type": "code",
   "execution_count": null,
   "metadata": {},
   "outputs": [],
   "source": [
    "df.describe()"
   ]
  },
  {
   "cell_type": "code",
   "execution_count": null,
   "metadata": {},
   "outputs": [],
   "source": [
    "# listing all columns\n",
    "list(df)"
   ]
  },
  {
   "cell_type": "markdown",
   "metadata": {},
   "source": [
    "# **for filtering out columns**\n",
    "- I opened the output of the list(df) into a text element, copied that and put it in a text file (bc it was read-only), then **removed** the columns I wanted to **keep**, then copied the resulting list into columns_to_drop"
   ]
  },
  {
   "cell_type": "code",
   "execution_count": null,
   "metadata": {},
   "outputs": [],
   "source": [
    "# dropping columns and creating new datafram\n",
    "columns_to_drop = ['OWN_CAR_AGE', \n",
    "'FLAG_MOBIL',\n",
    " 'FLAG_EMP_PHONE',\n",
    " 'FLAG_CONT_MOBILE',\n",
    " 'FLAG_PHONE',\n",
    " 'FLAG_EMAIL',\n",
    " 'EXT_SOURCE_1',\n",
    " 'EXT_SOURCE_2',\n",
    " 'EXT_SOURCE_3',\n",
    " 'APARTMENTS_AVG',\n",
    " 'BASEMENTAREA_AVG',\n",
    " 'YEARS_BEGINEXPLUATATION_AVG',\n",
    " 'YEARS_BUILD_AVG',\n",
    " 'COMMONAREA_AVG',\n",
    " 'ELEVATORS_AVG',\n",
    " 'ENTRANCES_AVG',\n",
    " 'FLOORSMAX_AVG',\n",
    " 'FLOORSMIN_AVG',\n",
    " 'LANDAREA_AVG',\n",
    " 'LIVINGAPARTMENTS_AVG',\n",
    " 'LIVINGAREA_AVG',\n",
    " 'NONLIVINGAPARTMENTS_AVG',\n",
    " 'NONLIVINGAREA_AVG',\n",
    " 'APARTMENTS_MODE',\n",
    " 'BASEMENTAREA_MODE',\n",
    " 'YEARS_BEGINEXPLUATATION_MODE',\n",
    " 'YEARS_BUILD_MODE',\n",
    " 'COMMONAREA_MODE',\n",
    " 'ELEVATORS_MODE',\n",
    " 'ENTRANCES_MODE',\n",
    " 'FLOORSMAX_MODE',\n",
    " 'FLOORSMIN_MODE',\n",
    " 'LANDAREA_MODE',\n",
    " 'LIVINGAPARTMENTS_MODE',\n",
    " 'LIVINGAREA_MODE',\n",
    " 'NONLIVINGAPARTMENTS_MODE',\n",
    " 'NONLIVINGAREA_MODE',\n",
    " 'APARTMENTS_MEDI',\n",
    " 'BASEMENTAREA_MEDI',\n",
    " 'YEARS_BEGINEXPLUATATION_MEDI',\n",
    " 'YEARS_BUILD_MEDI',\n",
    " 'COMMONAREA_MEDI',\n",
    " 'ELEVATORS_MEDI',\n",
    " 'ENTRANCES_MEDI',\n",
    " 'FLOORSMAX_MEDI',\n",
    " 'FLOORSMIN_MEDI',\n",
    " 'LANDAREA_MEDI',\n",
    " 'LIVINGAPARTMENTS_MEDI',\n",
    " 'LIVINGAREA_MEDI',\n",
    " 'NONLIVINGAPARTMENTS_MEDI',\n",
    " 'NONLIVINGAREA_MEDI',\n",
    " 'FONDKAPREMONT_MODE',\n",
    " 'HOUSETYPE_MODE',\n",
    " 'TOTALAREA_MODE',\n",
    " 'WALLSMATERIAL_MODE',\n",
    " 'EMERGENCYSTATE_MODE',\n",
    " 'FLAG_DOCUMENT_2',\n",
    " 'FLAG_DOCUMENT_3',\n",
    " 'FLAG_DOCUMENT_4',\n",
    " 'FLAG_DOCUMENT_5',\n",
    " 'FLAG_DOCUMENT_6',\n",
    " 'FLAG_DOCUMENT_7',\n",
    " 'FLAG_DOCUMENT_8',\n",
    " 'FLAG_DOCUMENT_9',\n",
    " 'FLAG_DOCUMENT_10',\n",
    " 'FLAG_DOCUMENT_11',\n",
    " 'FLAG_DOCUMENT_12',\n",
    " 'FLAG_DOCUMENT_13',\n",
    " 'FLAG_DOCUMENT_14',\n",
    " 'FLAG_DOCUMENT_15',\n",
    " 'FLAG_DOCUMENT_16',\n",
    " 'FLAG_DOCUMENT_17',\n",
    " 'FLAG_DOCUMENT_18',\n",
    " 'FLAG_DOCUMENT_19',\n",
    " 'FLAG_DOCUMENT_20',\n",
    " 'FLAG_DOCUMENT_21']\n",
    "df_dropped = df.drop(columns=columns_to_drop)\n",
    "list(df_dropped)"
   ]
  },
  {
   "cell_type": "code",
   "execution_count": null,
   "metadata": {},
   "outputs": [],
   "source": [
    "list(df_dropped)"
   ]
  },
  {
   "cell_type": "code",
   "execution_count": null,
   "metadata": {},
   "outputs": [],
   "source": [
    "# checking for null values\n",
    "df_dropped.info()"
   ]
  },
  {
   "cell_type": "code",
   "execution_count": null,
   "metadata": {},
   "outputs": [],
   "source": [
    "# determining the amount of clients with trouble making payments \n",
    "df_dropped['TARGET'].value_counts()"
   ]
  },
  {
   "cell_type": "code",
   "execution_count": null,
   "metadata": {},
   "outputs": [],
   "source": [
    "24825 / 307510 * 100"
   ]
  },
  {
   "cell_type": "markdown",
   "metadata": {},
   "source": [
    "# **Intial Thoughts**\n",
    "\n",
    " - it seems like there are some null values in OWN_AGE_CAR, OCCUPATION_TYPE, AMT_REQ_CREDIT(many columns)\n",
    "    - client may not own a car\n",
    "    - people might not have a previous application to reference\n",
    " - datatypes are a mix of integers, floats, and objects (strings)\n",
    " - clients who have trouble paying represent ~8% of the dataset"
   ]
  },
  {
   "cell_type": "code",
   "execution_count": null,
   "metadata": {},
   "outputs": [],
   "source": [
    "df_dropped[['TARGET', \n",
    " 'CNT_CHILDREN',\n",
    " 'AMT_INCOME_TOTAL',\n",
    " 'AMT_CREDIT',\n",
    " 'AMT_ANNUITY',\n",
    " 'AMT_GOODS_PRICE']].groupby(['TARGET']).mean()"
   ]
  },
  {
   "cell_type": "code",
   "execution_count": null,
   "metadata": {},
   "outputs": [],
   "source": [
    "# aggregated table for children, income, credit, annuity, loan amt\n",
    "df_dropped.groupby(['TARGET']).agg(\n",
    "    {'CNT_CHILDREN': ['mean', 'median', 'min', 'max'],\n",
    " 'AMT_INCOME_TOTAL': ['mean', 'median', 'min', 'max'],\n",
    " 'AMT_CREDIT': ['mean', 'median', 'min', 'max'],\n",
    " 'AMT_ANNUITY': ['mean', 'median', 'min', 'max'],\n",
    " 'AMT_GOODS_PRICE': ['mean', 'median', 'min', 'max']})\n"
   ]
  },
  {
   "cell_type": "markdown",
   "metadata": {},
   "source": [
    "** note to self: when referencing multiple columns from df you need double brackets"
   ]
  },
  {
   "cell_type": "markdown",
   "metadata": {},
   "source": [
    "# ** insights **\n",
    "- im gonna call clients with trouble making payments \"defaulters\"\n",
    "- from the mean: defaulters have more children, lower total income, lower credit, lower annuity, and lowers goods price \n",
    "- total income max for defaulters seems a bit high"
   ]
  },
  {
   "cell_type": "code",
   "execution_count": null,
   "metadata": {},
   "outputs": [],
   "source": [
    "df_dropped[['TARGET', \n",
    " 'OBS_30_CNT_SOCIAL_CIRCLE',\n",
    " 'DEF_30_CNT_SOCIAL_CIRCLE',\n",
    " 'OBS_60_CNT_SOCIAL_CIRCLE',\n",
    " 'DEF_60_CNT_SOCIAL_CIRCLE',]].groupby(['TARGET']).mean()"
   ]
  },
  {
   "cell_type": "markdown",
   "metadata": {},
   "source": [
    "# I still don't really know what this means ^ "
   ]
  },
  {
   "cell_type": "code",
   "execution_count": null,
   "metadata": {},
   "outputs": [],
   "source": [
    "df_dropped[['TARGET', \n",
    " 'AMT_REQ_CREDIT_BUREAU_HOUR',\n",
    " 'AMT_REQ_CREDIT_BUREAU_DAY',\n",
    " 'AMT_REQ_CREDIT_BUREAU_WEEK',\n",
    " 'AMT_REQ_CREDIT_BUREAU_MON',\n",
    " 'AMT_REQ_CREDIT_BUREAU_QRT',\n",
    " 'AMT_REQ_CREDIT_BUREAU_YEAR']].groupby(['TARGET']).mean()"
   ]
  },
  {
   "cell_type": "code",
   "execution_count": null,
   "metadata": {},
   "outputs": [],
   "source": [
    "df_dropped[['TARGET', \n",
    " 'AMT_REQ_CREDIT_BUREAU_HOUR',\n",
    " 'AMT_REQ_CREDIT_BUREAU_DAY',\n",
    " 'AMT_REQ_CREDIT_BUREAU_WEEK',\n",
    " 'AMT_REQ_CREDIT_BUREAU_MON',\n",
    " 'AMT_REQ_CREDIT_BUREAU_QRT',\n",
    " 'AMT_REQ_CREDIT_BUREAU_YEAR']].groupby(['TARGET']).count()"
   ]
  },
  {
   "cell_type": "code",
   "execution_count": null,
   "metadata": {},
   "outputs": [],
   "source": [
    "# looking at occupation types grouped by defaulters and non-defaulters\n",
    "df_dropped[['TARGET', 'OCCUPATION_TYPE']].groupby(['TARGET']).value_counts()"
   ]
  },
  {
   "cell_type": "code",
   "execution_count": null,
   "metadata": {},
   "outputs": [],
   "source": [
    "df_defaulters_only = df_dropped[df_dropped['TARGET'] == 1]"
   ]
  },
  {
   "cell_type": "code",
   "execution_count": null,
   "metadata": {},
   "outputs": [],
   "source": [
    "df_defaulters_only"
   ]
  },
  {
   "cell_type": "code",
   "execution_count": null,
   "metadata": {},
   "outputs": [],
   "source": [
    "df_defaulters_only.info()"
   ]
  },
  {
   "cell_type": "code",
   "execution_count": null,
   "metadata": {},
   "outputs": [],
   "source": [
    "df_defaulters_only.head(10)"
   ]
  },
  {
   "cell_type": "code",
   "execution_count": null,
   "metadata": {},
   "outputs": [
    {
     "ename": "",
     "evalue": "",
     "output_type": "error",
     "traceback": [
      "\u001b[1;31mRunning cells with 'Python 3.12.3' requires the ipykernel package.\n",
      "\u001b[1;31mRun the following command to install 'ipykernel' into the Python environment. \n",
      "\u001b[1;31mCommand: 'c:/Users/parks/AppData/Local/Programs/Python/Python312/python.exe -m pip install ipykernel -U --user --force-reinstall'"
     ]
    }
   ],
   "source": [
    "df_defaulters_only\n",
    "# looking at occupation types grouped by defaulters and non-defaulters"
   ]
  },
  {
   "cell_type": "code",
   "execution_count": null,
   "metadata": {},
   "outputs": [],
   "source": [
    "df.to_csv('/Users/jacobwarchola/Desktop/archive/loan_application_dropped.csv')"
   ]
  }
 ],
 "metadata": {
  "kernelspec": {
   "display_name": "Python 3",
   "language": "python",
   "name": "python3"
  },
  "language_info": {
   "codemirror_mode": {
    "name": "ipython",
    "version": 3
   },
   "file_extension": ".py",
   "mimetype": "text/x-python",
   "name": "python",
   "nbconvert_exporter": "python",
   "pygments_lexer": "ipython3",
   "version": "3.12.3"
  }
 },
 "nbformat": 4,
 "nbformat_minor": 2
}
